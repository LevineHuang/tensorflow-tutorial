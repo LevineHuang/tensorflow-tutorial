{
 "cells": [
  {
   "cell_type": "code",
   "execution_count": 27,
   "metadata": {},
   "outputs": [
    {
     "data": {
      "text/plain": [
       "'1.1.0'"
      ]
     },
     "execution_count": 27,
     "metadata": {},
     "output_type": "execute_result"
    }
   ],
   "source": [
    "import numpy as np\n",
    "import tensorflow as tf\n",
    "from tensorflow.contrib.learn.python.learn.estimators.estimator import SKCompat\n",
    "from tensorflow.python.ops import array_ops as array_ops_\n",
    "import matplotlib.pyplot as plt\n",
    "learn = tf.contrib.learn\n",
    "tf.__version__\n"
   ]
  },
  {
   "cell_type": "markdown",
   "metadata": {},
   "source": [
    "#### 1. 设置神经网络的参数。"
   ]
  },
  {
   "cell_type": "code",
   "execution_count": 2,
   "metadata": {
    "collapsed": true
   },
   "outputs": [],
   "source": [
    "HIDDEN_SIZE = 30\n",
    "NUM_LAYERS = 2\n",
    "\n",
    "TIMESTEPS = 10\n",
    "TRAINING_STEPS = 3000\n",
    "BATCH_SIZE = 32\n",
    "\n",
    "TRAINING_EXAMPLES = 10000\n",
    "TESTING_EXAMPLES = 1000\n",
    "SAMPLE_GAP = 0.01"
   ]
  },
  {
   "cell_type": "markdown",
   "metadata": {},
   "source": [
    "#### 2. 定义生成正弦数据的函数。"
   ]
  },
  {
   "cell_type": "code",
   "execution_count": 3,
   "metadata": {
    "collapsed": true
   },
   "outputs": [],
   "source": [
    "def generate_data(seq):\n",
    "    X = []\n",
    "    y = []\n",
    "\n",
    "    for i in range(len(seq) - TIMESTEPS - 1):\n",
    "        X.append([seq[i: i + TIMESTEPS]])\n",
    "        y.append([seq[i + TIMESTEPS]])\n",
    "    return np.array(X, dtype=np.float32), np.array(y, dtype=np.float32)"
   ]
  },
  {
   "cell_type": "markdown",
   "metadata": {},
   "source": [
    "#### 3. 定义lstm模型。"
   ]
  },
  {
   "cell_type": "code",
   "execution_count": 20,
   "metadata": {
    "collapsed": true
   },
   "outputs": [],
   "source": [
    "def lstm_model(X, y):\n",
    "#     lstm_cell = tf.contrib.rnn.BasicLSTMCell(HIDDEN_SIZE, state_is_tuple=True)\n",
    "#     cell = tf.contrib.rnn.MultiRNNCell([lstm_cell] * NUM_LAYERS)\n",
    "#     cell = tf.contrib.rnn.MultiRNNCell([lstm_cell() for _ in range(NUM_LAYERS)])\n",
    "#     output, _ = tf.nn.dynamic_rnn(cell, X, dtype=tf.float32)    \n",
    "\n",
    "    cells=[]\n",
    "    for _ in range(NUM_LAYERS):\n",
    "        cell = tf.contrib.rnn.BasicLSTMCell(HIDDEN_SIZE, state_is_tuple=True)\n",
    "        cells.append(cell)\n",
    "    multicell = tf.contrib.rnn.MultiRNNCell(cells, state_is_tuple=True)\n",
    "    output, _ = tf.nn.dynamic_rnn(multicell, X, dtype=tf.float32)\n",
    "    output = tf.reshape(output, [-1, HIDDEN_SIZE])\n",
    "    \n",
    "    # 通过无激活函数的全联接层计算线性回归，并将数据压缩成一维数组的结构。\n",
    "    predictions = tf.contrib.layers.fully_connected(output, 1, None)\n",
    "    \n",
    "    # 将predictions和labels调整统一的shape\n",
    "    labels = tf.reshape(y, [-1])\n",
    "    predictions=tf.reshape(predictions, [-1])\n",
    "    \n",
    "    loss = tf.losses.mean_squared_error(predictions, labels)\n",
    "    \n",
    "    train_op = tf.contrib.layers.optimize_loss(\n",
    "        loss, tf.contrib.framework.get_global_step(),\n",
    "        optimizer=\"Adagrad\", learning_rate=0.1)\n",
    "\n",
    "    return predictions, loss, train_op"
   ]
  },
  {
   "cell_type": "markdown",
   "metadata": {},
   "source": [
    "#### 4. 进行训练。"
   ]
  },
  {
   "cell_type": "code",
   "execution_count": 21,
   "metadata": {},
   "outputs": [
    {
     "name": "stdout",
     "output_type": "stream",
     "text": [
      "INFO:tensorflow:Using default config.\n",
      "INFO:tensorflow:Using config: {'_task_type': None, '_task_id': 0, '_cluster_spec': <tensorflow.python.training.server_lib.ClusterSpec object at 0x7f39a960e860>, '_master': '', '_num_ps_replicas': 0, '_num_worker_replicas': 0, '_environment': 'local', '_is_chief': True, '_evaluation_master': '', '_tf_config': gpu_options {\n",
      "  per_process_gpu_memory_fraction: 1\n",
      "}\n",
      ", '_tf_random_seed': None, '_save_summary_steps': 100, '_save_checkpoints_secs': 600, '_save_checkpoints_steps': None, '_keep_checkpoint_max': 5, '_keep_checkpoint_every_n_hours': 10000, '_model_dir': None}\n",
      "INFO:tensorflow:Create CheckpointSaverHook.\n",
      "INFO:tensorflow:Saving checkpoints for 1 into Models/model_2/model.ckpt.\n",
      "INFO:tensorflow:loss = 0.506108, step = 1\n",
      "INFO:tensorflow:global_step/sec: 240.449\n",
      "INFO:tensorflow:loss = 0.00485361, step = 101 (0.420 sec)\n",
      "INFO:tensorflow:global_step/sec: 223.084\n",
      "INFO:tensorflow:loss = 0.00503342, step = 201 (0.448 sec)\n",
      "INFO:tensorflow:global_step/sec: 224.252\n",
      "INFO:tensorflow:loss = 0.00309919, step = 301 (0.445 sec)\n",
      "INFO:tensorflow:global_step/sec: 221.611\n",
      "INFO:tensorflow:loss = 0.00337724, step = 401 (0.451 sec)\n",
      "INFO:tensorflow:global_step/sec: 223.1\n",
      "INFO:tensorflow:loss = 0.00279252, step = 501 (0.448 sec)\n",
      "INFO:tensorflow:global_step/sec: 223.146\n",
      "INFO:tensorflow:loss = 0.00239739, step = 601 (0.448 sec)\n",
      "INFO:tensorflow:global_step/sec: 222.541\n",
      "INFO:tensorflow:loss = 0.00156018, step = 701 (0.449 sec)\n",
      "INFO:tensorflow:global_step/sec: 220.375\n",
      "INFO:tensorflow:loss = 0.00162413, step = 801 (0.454 sec)\n",
      "INFO:tensorflow:global_step/sec: 219.677\n",
      "INFO:tensorflow:loss = 0.00133047, step = 901 (0.455 sec)\n",
      "INFO:tensorflow:global_step/sec: 223.064\n",
      "INFO:tensorflow:loss = 0.00103277, step = 1001 (0.448 sec)\n",
      "INFO:tensorflow:global_step/sec: 223.769\n",
      "INFO:tensorflow:loss = 0.000923916, step = 1101 (0.447 sec)\n",
      "INFO:tensorflow:global_step/sec: 226.501\n",
      "INFO:tensorflow:loss = 0.000977716, step = 1201 (0.441 sec)\n",
      "INFO:tensorflow:global_step/sec: 224.581\n",
      "INFO:tensorflow:loss = 0.000688467, step = 1301 (0.446 sec)\n",
      "INFO:tensorflow:global_step/sec: 223.915\n",
      "INFO:tensorflow:loss = 0.000751966, step = 1401 (0.446 sec)\n",
      "INFO:tensorflow:global_step/sec: 223.32\n",
      "INFO:tensorflow:loss = 0.000788872, step = 1501 (0.448 sec)\n",
      "INFO:tensorflow:global_step/sec: 224.568\n",
      "INFO:tensorflow:loss = 0.000639247, step = 1601 (0.445 sec)\n",
      "INFO:tensorflow:global_step/sec: 222.206\n",
      "INFO:tensorflow:loss = 0.000550845, step = 1701 (0.450 sec)\n",
      "INFO:tensorflow:global_step/sec: 223.861\n",
      "INFO:tensorflow:loss = 0.000576969, step = 1801 (0.447 sec)\n",
      "INFO:tensorflow:global_step/sec: 226.62\n",
      "INFO:tensorflow:loss = 0.000422892, step = 1901 (0.442 sec)\n",
      "INFO:tensorflow:global_step/sec: 228.69\n",
      "INFO:tensorflow:loss = 0.000297957, step = 2001 (0.437 sec)\n",
      "INFO:tensorflow:global_step/sec: 229.258\n",
      "INFO:tensorflow:loss = 0.00024035, step = 2101 (0.436 sec)\n",
      "INFO:tensorflow:global_step/sec: 228.531\n",
      "INFO:tensorflow:loss = 0.00034171, step = 2201 (0.438 sec)\n",
      "INFO:tensorflow:global_step/sec: 228.852\n",
      "INFO:tensorflow:loss = 0.000167193, step = 2301 (0.437 sec)\n",
      "INFO:tensorflow:global_step/sec: 228.542\n",
      "INFO:tensorflow:loss = 0.000135641, step = 2401 (0.438 sec)\n",
      "INFO:tensorflow:global_step/sec: 227.375\n",
      "INFO:tensorflow:loss = 0.000163044, step = 2501 (0.440 sec)\n",
      "INFO:tensorflow:global_step/sec: 227.197\n",
      "INFO:tensorflow:loss = 0.000136878, step = 2601 (0.440 sec)\n",
      "INFO:tensorflow:global_step/sec: 228.188\n",
      "INFO:tensorflow:loss = 0.000144471, step = 2701 (0.438 sec)\n",
      "INFO:tensorflow:global_step/sec: 227.56\n",
      "INFO:tensorflow:loss = 0.000109145, step = 2801 (0.440 sec)\n",
      "INFO:tensorflow:global_step/sec: 227.821\n",
      "INFO:tensorflow:loss = 6.67211e-05, step = 2901 (0.439 sec)\n",
      "INFO:tensorflow:Saving checkpoints for 3000 into Models/model_2/model.ckpt.\n",
      "INFO:tensorflow:Loss for final step: 8.36815e-05.\n",
      "INFO:tensorflow:Restoring parameters from Models/model_2/model.ckpt-3000\n",
      "Mean Square Error is: 0.008576\n"
     ]
    }
   ],
   "source": [
    "# 封装之前定义的lstm。\n",
    "regressor = SKCompat(learn.Estimator(model_fn=lstm_model,model_dir=\"Models/model_2\"))\n",
    "\n",
    "# 生成数据。\n",
    "test_start = TRAINING_EXAMPLES * SAMPLE_GAP\n",
    "test_end = (TRAINING_EXAMPLES + TESTING_EXAMPLES) * SAMPLE_GAP\n",
    "train_X, train_y = generate_data(np.sin(np.linspace(0, test_start, TRAINING_EXAMPLES, dtype=np.float32)))\n",
    "test_X, test_y = generate_data(np.sin(np.linspace(test_start, test_end, TESTING_EXAMPLES, dtype=np.float32)))\n",
    "\n",
    "# 拟合数据。\n",
    "regressor.fit(train_X, train_y, batch_size=BATCH_SIZE, steps=TRAINING_STEPS)\n",
    "\n",
    "# 计算预测值。\n",
    "predicted = [[pred] for pred in regressor.predict(test_X)]\n",
    "\n",
    "# 计算MSE。\n",
    "rmse = np.sqrt(((predicted - test_y) ** 2).mean(axis=0))\n",
    "print (\"Mean Square Error is: %f\" % rmse[0])"
   ]
  },
  {
   "cell_type": "markdown",
   "metadata": {},
   "source": [
    "#### 5. 画出预测值和真实值的曲线。"
   ]
  },
  {
   "cell_type": "code",
   "execution_count": 22,
   "metadata": {},
   "outputs": [
    {
     "data": {
      "image/png": "[encoded data removed]",
      "text/plain": [
       "<matplotlib.figure.Figure at 0x7f39a91fe080>"
      ]
     },
     "metadata": {},
     "output_type": "display_data"
    }
   ],
   "source": [
    "plot_predicted, = plt.plot(predicted, label='predicted')\n",
    "plot_test, = plt.plot(test_y, label='real_sin')\n",
    "plt.legend([plot_predicted, plot_test],['predicted', 'real_sin'])\n",
    "plt.show()"
   ]
  }
 ],
 "metadata": {
  "kernelspec": {
   "display_name": "Python 3",
   "language": "python",
   "name": "python3"
  },
  "language_info": {
   "codemirror_mode": {
    "name": "ipython",
    "version": 3
   },
   "file_extension": ".py",
   "mimetype": "text/x-python",
   "name": "python",
   "nbconvert_exporter": "python",
   "pygments_lexer": "ipython3",
   "version": "3.6.1"
  }
 },
 "nbformat": 4,
 "nbformat_minor": 1
}
